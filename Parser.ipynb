{
 "cells": [
  {
   "cell_type": "code",
   "execution_count": 1,
   "id": "cbe6e10c",
   "metadata": {},
   "outputs": [],
   "source": [
    "import requests\n",
    "import lxml\n",
    "from bs4 import BeautifulSoup\n",
    "import re\n",
    "import numpy as np"
   ]
  },
  {
   "cell_type": "code",
   "execution_count": 472,
   "id": "d198a1aa",
   "metadata": {},
   "outputs": [],
   "source": [
    "source = requests.get('https://www.olx.pl/nieruchomosci/mieszkania/sprzedaz/krakow/?search%5Bfilter_float_price_per_m%3Ato%5D=7000&search%5Bfilter_enum_market%5D%5B0%5D=secondary&search%5Bfilter_float_m%3Afrom%5D=60').text\n",
    "soup = BeautifulSoup(source, 'lxml')\n",
    "\n",
    "def get_price():\n",
    "    \n",
    "    lst = []\n",
    "\n",
    "    for prices in soup.find_all('p', class_ = 'price'):\n",
    "        prices = prices.text\n",
    "        x = re.findall('[0-9]+', prices)\n",
    "        x = int(''.join(x))\n",
    "        lst.append(x)\n",
    "        \n",
    "    return lst\n",
    "        \n",
    "def check_price(lst):\n",
    "    lst_n = [i for i in lst if not i > 500000]\n",
    "    return lst_n\n",
    "\n",
    "def print_val():\n",
    "    for div in soup.find_all('div', class_ = 'offer-wrapper'):\n",
    "\n",
    "        for price in div.find_all('p', class_ = 'price'):\n",
    "            price = price.text.split(' ')\n",
    "            print (price)\n",
    "\n",
    "        for loc in div.find_all('span'):\n",
    "            loc = loc.text\n",
    "            print (loc)\n",
    "\n",
    "def main():\n",
    "    lst1 = get_price()\n",
    "    return check_price(lst1)\n",
    "    \n",
    "    \n"
   ]
  },
  {
   "cell_type": "code",
   "execution_count": 473,
   "id": "8805a9e5",
   "metadata": {},
   "outputs": [
    {
     "data": {
      "text/plain": [
       "[165000,\n",
       " 339000,\n",
       " 339000,\n",
       " 449999,\n",
       " 40000,\n",
       " 165000,\n",
       " 139900,\n",
       " 490000,\n",
       " 340000,\n",
       " 389000,\n",
       " 475000,\n",
       " 490000,\n",
       " 185000,\n",
       " 425000,\n",
       " 399000,\n",
       " 479000,\n",
       " 180000]"
      ]
     },
     "execution_count": 473,
     "metadata": {},
     "output_type": "execute_result"
    }
   ],
   "source": [
    "main()"
   ]
  },
  {
   "cell_type": "code",
   "execution_count": null,
   "id": "bc74d206",
   "metadata": {},
   "outputs": [],
   "source": []
  },
  {
   "cell_type": "code",
   "execution_count": null,
   "id": "4b5eb5b4",
   "metadata": {},
   "outputs": [],
   "source": []
  },
  {
   "cell_type": "code",
   "execution_count": null,
   "id": "bae5c4a3",
   "metadata": {},
   "outputs": [],
   "source": []
  }
 ],
 "metadata": {
  "kernelspec": {
   "display_name": "Python 3",
   "language": "python",
   "name": "python3"
  },
  "language_info": {
   "codemirror_mode": {
    "name": "ipython",
    "version": 3
   },
   "file_extension": ".py",
   "mimetype": "text/x-python",
   "name": "python",
   "nbconvert_exporter": "python",
   "pygments_lexer": "ipython3",
   "version": "3.8.8"
  }
 },
 "nbformat": 4,
 "nbformat_minor": 5
}
